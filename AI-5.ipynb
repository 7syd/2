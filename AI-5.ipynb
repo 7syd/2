{
 "cells": [
  {
   "cell_type": "code",
   "execution_count": 4,
   "id": "72f60a52",
   "metadata": {},
   "outputs": [
    {
     "name": "stdout",
     "output_type": "stream",
     "text": [
      "Enter the number of jobs: 5\n",
      "Enter the deadline for job 1: 4\n",
      "Enter the profit for job 1: 70\n",
      "Enter the deadline for job 2: 2\n",
      "Enter the profit for job 2: 60\n",
      "Enter the deadline for job 3: 4\n",
      "Enter the profit for job 3: 50\n",
      "Enter the deadline for job 4: 3\n",
      "Enter the profit for job 4: 40\n",
      "Enter the deadline for job 5: 1\n",
      "Enter the profit for job 5: 30\n",
      "\n",
      "\n",
      "Maximum Profit: 220\n",
      "Scheduled Jobs:\n",
      "Job 1 (Deadline: 4, Profit: 70)\n",
      "Job 2 (Deadline: 2, Profit: 60)\n",
      "Job 3 (Deadline: 4, Profit: 50)\n",
      "Job 4 (Deadline: 3, Profit: 40)\n"
     ]
    }
   ],
   "source": [
    "def job_scheduling(jobs):\n",
    "    jobs.sort(key=lambda x: x[2], reverse=True)\n",
    "\n",
    "    max_deadline = max(jobs, key=lambda x: x[1])[1]\n",
    "    schedule = [-1] * (max_deadline + 1)\n",
    "\n",
    "    total_profit = 0\n",
    "    scheduled_jobs = []\n",
    "\n",
    "    for job in jobs:\n",
    "        job_id, deadline, profit = job\n",
    "        for i in range(deadline, 0, -1):\n",
    "            if schedule[i] == -1:\n",
    "                schedule[i] = job_id\n",
    "                total_profit += profit\n",
    "                scheduled_jobs.append(job)\n",
    "                break\n",
    "\n",
    "    return total_profit, scheduled_jobs\n",
    "\n",
    "def main():\n",
    "    num_jobs = int(input(\"Enter the number of jobs: \"))\n",
    "    jobs = []\n",
    "    for i in range(num_jobs):\n",
    "        job_id = i + 1\n",
    "        deadline = int(input(f\"Enter the deadline for job {job_id}: \"))\n",
    "        profit = int(input(f\"Enter the profit for job {job_id}: \"))\n",
    "        jobs.append((job_id, deadline, profit))\n",
    "\n",
    "    max_profit, scheduled_jobs = job_scheduling(jobs)\n",
    "    print(\"\\n\\nMaximum Profit:\", max_profit)\n",
    "    print(\"Scheduled Jobs:\")\n",
    "    for job in scheduled_jobs:\n",
    "        print(f\"Job {job[0]} (Deadline: {job[1]}, Profit: {job[2]})\")\n",
    "\n",
    "if __name__ == \"__main__\":\n",
    "    main()\n"
   ]
  },
  {
   "cell_type": "code",
   "execution_count": null,
   "id": "74a7a25e",
   "metadata": {},
   "outputs": [],
   "source": []
  }
 ],
 "metadata": {
  "kernelspec": {
   "display_name": "Python 3 (ipykernel)",
   "language": "python",
   "name": "python3"
  },
  "language_info": {
   "codemirror_mode": {
    "name": "ipython",
    "version": 3
   },
   "file_extension": ".py",
   "mimetype": "text/x-python",
   "name": "python",
   "nbconvert_exporter": "python",
   "pygments_lexer": "ipython3",
   "version": "3.9.12"
  }
 },
 "nbformat": 4,
 "nbformat_minor": 5
}
