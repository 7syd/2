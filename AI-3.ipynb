{
 "cells": [
  {
   "cell_type": "code",
   "execution_count": 8,
   "id": "31d6f0ba",
   "metadata": {},
   "outputs": [
    {
     "name": "stdout",
     "output_type": "stream",
     "text": [
      "Enter value for index 0: 3\n",
      "Enter value for index 1: 5\n",
      "Enter value for index 2: 6\n",
      "Enter value for index 3: 9\n",
      "Enter value for index 4: 1\n",
      "Enter value for index 5: 2\n",
      "Enter value for index 6: 0\n",
      "Enter value for index 7: -1\n",
      "The optimal value is : 5\n"
     ]
    }
   ],
   "source": [
    "MAX, MIN = 1000, -1000\n",
    "\n",
    "def alphabeta(depth, nodeIndex, maximizingPlayer, values, alpha, beta): \n",
    "    if depth == 3: \n",
    "        return values[nodeIndex] \n",
    "\n",
    "    if maximizingPlayer: \n",
    "        best = MIN\n",
    "        for i in range(0, 2): \n",
    "            val = alphabeta(depth + 1, nodeIndex * 2 + i, False, values, alpha, beta) \n",
    "            best = max(best, val) \n",
    "            alpha = max(alpha, best) \n",
    "            if beta <= alpha: \n",
    "                break\n",
    "        return best \n",
    "\n",
    "    else:\n",
    "        best = MAX\n",
    "        for i in range(0, 2): \n",
    "            val = alphabeta(depth + 1, nodeIndex * 2 + i, True, values, alpha, beta) \n",
    "            best = min(best, val) \n",
    "            beta = min(beta, best) \n",
    "            if beta <= alpha: \n",
    "                break\n",
    "        return best \n",
    "\n",
    "    \n",
    "if __name__ == \"__main__\": \n",
    "    values = []\n",
    "    for i in range(8):\n",
    "        value = int(input(f\"Enter value for index {i}: \"))\n",
    "        values.append(value)\n",
    "    print(\"The optimal value is :\", alphabeta(0, 0, True, values, MIN, MAX)) "
   ]
  },
  {
   "cell_type": "code",
   "execution_count": null,
   "id": "ae37e472",
   "metadata": {},
   "outputs": [],
   "source": []
  }
 ],
 "metadata": {
  "kernelspec": {
   "display_name": "Python 3 (ipykernel)",
   "language": "python",
   "name": "python3"
  },
  "language_info": {
   "codemirror_mode": {
    "name": "ipython",
    "version": 3
   },
   "file_extension": ".py",
   "mimetype": "text/x-python",
   "name": "python",
   "nbconvert_exporter": "python",
   "pygments_lexer": "ipython3",
   "version": "3.9.12"
  }
 },
 "nbformat": 4,
 "nbformat_minor": 5
}
